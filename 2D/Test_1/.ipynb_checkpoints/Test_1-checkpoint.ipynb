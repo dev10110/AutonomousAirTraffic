{
 "cells": [
  {
   "cell_type": "code",
   "execution_count": 76,
   "metadata": {},
   "outputs": [],
   "source": [
    "from __future__ import print_function\n",
    "import numpy as np\n",
    "import matplotlib.pyplot as plt\n",
    "from OpenGoddard.optimize import Problem, Guess, Condition, Dynamics\n",
    "import pandas as pd\n",
    "from scipy.integrate import solve_ivp\n",
    "import random as rd\n",
    "import scipy as sp"
   ]
  },
  {
   "cell_type": "code",
   "execution_count": 133,
   "metadata": {},
   "outputs": [],
   "source": [
    "class Particle:\n",
    "    #single particle\n",
    "    def __init__(self):\n",
    "        self.x0 = rd.random()\n",
    "        self.y0 = rd.random()\n",
    "        \n",
    "        self.xf = rd.random()\n",
    "        self.yf = rd.random()\n",
    "        \n",
    "        l = np.sqrt((self.xf-self.x0)**2 + (self.yf-self.y0)**2)\n",
    "        \n",
    "        #define inertia\n",
    "        self.m = 1;\n",
    "        \n",
    "        #define max speed, force\n",
    "        self.vmax = 1.3*l; #allows it to go 25% extra distance\n",
    "        self.Fmax = 1;\n",
    "        \n",
    "    \n",
    "    def __str__(self):\n",
    "        return ('From ({0:2.2f},{1:2.2f}) to ({2:2.2f},{3:2.2f})'.format(self.x0,self.y0, self.xf,self.yf))\n",
    "\n",
    "    def plot_direct_traj(self):\n",
    "        plt.plot([self.x0,self.xf],[self.y0,self.yf],'--',lw=0.5)\n",
    "        plt.plot([self.x0],[self.y0],'o',c='g')\n",
    "        \n",
    "    def get_num_states_and_controls(self):\n",
    "        return (2,2)\n",
    "    \n",
    "    def dynamics(self,state,controls):\n",
    "\n",
    "        x = state[0]\n",
    "        y = state[1]\n",
    "        \n",
    "        vx = controls[0]\n",
    "        vy = controls[1]\n",
    "        \n",
    "        return (vx, vy)\n",
    "    \n",
    "    def initial_guess_state(self,n):\n",
    "        #n is the number of nodes\n",
    "        \n",
    "        x = np.linspace(self.x0, self.xf, n)\n",
    "        y = np.linspace(self.y0, self.yf, n)\n",
    "        \n",
    "        return (x,y)\n",
    "    \n",
    "    def initial_guess_control(self,n):\n",
    "        #n is the number of nodes\n",
    "        \n",
    "        #guess is a linear path of constant, max velocity between the points\n",
    "        delx = self.xf-self.x0\n",
    "        dely = self.yf-self.y0\n",
    "        l = np.sqrt(delx**2+dely**2)\n",
    "        \n",
    "        vx = (self.vmax*delx/l)*np.ones(n)\n",
    "        vy = (self.vmax*dely/l)*np.ones(n)\n",
    "        \n",
    "        return (vx,vy)\n",
    "        \n",
    "class Particles:\n",
    "    #collection of particles\n",
    "    \n",
    "    def __init__(self,N=2):\n",
    "        self.N = N #number of particles\n",
    "        \n",
    "        #define max time\n",
    "        self.tf_max = 1\n",
    "        \n",
    "        #define state vector size\n",
    "        self.len_state = 2\n",
    "        self.len_control = 2\n",
    "        \n",
    "        #generate particles\n",
    "        self.list_of_particles = [];\n",
    "        \n",
    "        for i in range(self.N):\n",
    "            self.list_of_particles.append(Particle())\n",
    "    \n",
    "    def print_particles(self):\n",
    "        \n",
    "        #print the details of each particle\n",
    "        [print(p) for p in self.list_of_particles]\n",
    "        \n",
    "        return\n",
    "    \n",
    "    def get_num_states_and_controls(self):\n",
    "        p=self.list_of_particles[0]\n",
    "        (s,c) = p.get_num_states_and_controls()\n",
    "        \n",
    "        return (self.N*s, self.N*c)\n",
    "    \n",
    "    def plot_direct_traj(self,new_fig=False):\n",
    "        #plot all the direct trajectories\n",
    "        if new_fig:\n",
    "            plt.figure()\n",
    "            \n",
    "        for i in range(self.N):\n",
    "            self.list_of_particles[i].plot_direct_traj()\n",
    "            \n",
    "    def __str__(self):\n",
    "        return ('Set of {} Particle(s)'.format(self.N))\n"
   ]
  },
  {
   "cell_type": "code",
   "execution_count": 134,
   "metadata": {},
   "outputs": [],
   "source": [
    "\n",
    "def dynamics(prob,obj,section):\n",
    "    \n",
    "    N = obj.N;\n",
    "    n_s = obj.len_state\n",
    "    n_c = obj.len_control\n",
    "    \n",
    "    dx = Dynamics(prob, section)\n",
    "    \n",
    "    #prob contains state, each particle\n",
    "    \n",
    "    #collect all the prob and controls\n",
    "    for i in range(N):\n",
    "        \n",
    "        p = obj.list_of_particles[i]\n",
    "        \n",
    "        state_i   = []\n",
    "        control_i = []\n",
    "        \n",
    "        for s in range(n_s):\n",
    "            state_i.append(prob.states_all_section(n_s*i+s))\n",
    "        for c in range(n_c):\n",
    "            control_i.append(prob.controls_all_section(n_c*i+c))\n",
    "    \n",
    "        dyn_i = p.dynamics(state_i,control_i)\n",
    "        \n",
    "        for s in range(n_s):\n",
    "            dx[i*n_s+s] = dyn_i[s]\n",
    "    \n",
    "    return dx()\n",
    "\n",
    "def equality(prob, obj):\n",
    "    \n",
    "    N_p = obj.N #number of particles\n",
    "    n_s = obj.len_state\n",
    "    n_c = obj.len_control\n",
    "    \n",
    "    result = Condition()\n",
    "    \n",
    "    #import start and end point conditions\n",
    "    for i, p in enumerate(obj.list_of_particles):\n",
    "        x = prob.states_all_section(i*n_s)\n",
    "        y = prob.states_all_section(i*n_s + 1)\n",
    "        \n",
    "        result.equal(x[0],  p.x0)\n",
    "        result.equal(x[-1], p.xf)\n",
    "        result.equal(y[0],  p.y0)\n",
    "        result.equal(y[-1], p.yf)\n",
    "    \n",
    "    \n",
    "    return result()\n",
    "\n",
    "def inequality(prob, obj):\n",
    "    \n",
    "    N_p = obj.N #number of particles\n",
    "    n_s = obj.len_state\n",
    "    n_c = obj.len_control\n",
    "    tf  = prob.time_final(-1)\n",
    "    \n",
    "    result = Condition()\n",
    "    \n",
    "    #final time must be smaller than some limit\n",
    "    result.upper_bound(tf, obj.tf_max)\n",
    "    \n",
    "    #all the velocities must be less than the respective vmax\n",
    "    for i, p in enumerate(obj.list_of_particles):\n",
    "        vx = prob.controls_all_section(i*n_c)\n",
    "        vy = prob.controls_all_section(i*n_c + 1)\n",
    "        \n",
    "        result.upper_bound(vx**2 + vy**2, p.vmax**2)\n",
    "    \n",
    "    return result()\n",
    "\n",
    "\n",
    "\n",
    "def cost(prob, obj):\n",
    "    return 0.0\n",
    "    \n",
    "def running_cost(prob,obj):\n",
    "    N_p = obj.N #number of particles\n",
    "    n_s = 2\n",
    "    n_c = 2\n",
    "    \n",
    "    #since i know what the structure is, im gonna cheat and type the equation directly\n",
    "    cost = 0.0\n",
    "\n",
    "    for i in range(N_p):\n",
    "        xi = prob.states_all_section(i*n_s)\n",
    "        yi = prob.states_all_section(i*n_s + 1)\n",
    "        for j in range (N_p):\n",
    "            if i < j:\n",
    "                xj = prob.states_all_section(j*n_s)\n",
    "                yj = prob.states_all_section(j*n_s + 1)\n",
    "                \n",
    "                cost = cost + np.sum((xi-xj)**(-2)) + np.sum((yi-yj)**(-2))\n",
    "    \n",
    "    #no cost on the controls\n",
    "    \n",
    "    return cost/10000\n",
    "    "
   ]
  },
  {
   "cell_type": "code",
   "execution_count": 135,
   "metadata": {},
   "outputs": [],
   "source": [
    "plt.ion()\n",
    "\n",
    "#create set of particles\n",
    "N_p = 5 #number of particles\n",
    "obj = Particles(N=N_p)\n",
    "\n",
    "# Program Starting Point\n",
    "time_init = [0.0, 1.0]\n",
    "\n",
    "#nodes\n",
    "N_n = 10 #number of nodes\n",
    "n = [N_n]\n",
    "\n",
    "#number of states and controls\n",
    "n_si = obj.len_state #inidividual number of states and controls\n",
    "n_ci = obj.len_control\n",
    "(n_s, n_c) = obj.get_num_states_and_controls() #for the entire problem\n",
    "num_states = [n_s]\n",
    "num_controls = [n_c]\n",
    "\n",
    "#max iterations\n",
    "max_iteration = 15\n",
    "\n",
    "prob = Problem(time_init, n, num_states, num_controls, max_iteration)\n",
    "prob.dynamics = [dynamics]\n",
    "prob.knot_states_smooth = []\n",
    "prob.cost = cost\n",
    "prob.running_cost = running_cost\n",
    "# prob.cost_derivative = cost_derivative\n",
    "prob.equality = equality\n",
    "prob.inequality = inequality\n"
   ]
  },
  {
   "cell_type": "code",
   "execution_count": 136,
   "metadata": {},
   "outputs": [
    {
     "data": {
      "text/plain": [
       "---- parameter ----\n",
       "nodes = [10]\n",
       "number of states    = [10]\n",
       "number of controls  = [10]\n",
       "number of sections  = 1\n",
       "number of variables = 201\n",
       "---- algorithm ----\n",
       "max iteration = 15\n",
       "---- function  ----\n",
       "dynamics        = [<function dynamics at 0x10febb400>]\n",
       "cost            = <function cost at 0x18298586a8>\n",
       "cost_derivative = None\n",
       "equality        = <function equality at 0x1829858378>\n",
       "inequality      = <function inequality at 0x1829858598>\n",
       "knot_states_smooth = [<function dynamics at 0x10febb400>]"
      ]
     },
     "execution_count": 136,
     "metadata": {},
     "output_type": "execute_result"
    }
   ],
   "source": [
    "prob"
   ]
  },
  {
   "cell_type": "code",
   "execution_count": 137,
   "metadata": {},
   "outputs": [],
   "source": [
    "#define initial guess\n",
    "particle_list = obj.list_of_particles\n",
    "for i in range(N_p):\n",
    "    state    = particle_list[i].initial_guess_state(N_n)\n",
    "    controls = particle_list[i].initial_guess_control(N_n)\n",
    "    \n",
    "    for s in range(n_si):\n",
    "        prob.set_states_all_section(i*n_si+s, state[s])\n",
    "        \n",
    "    for c in range(n_ci):\n",
    "        prob.set_controls_all_section(i*n_ci+c, controls[c])\n",
    "        \n"
   ]
  },
  {
   "cell_type": "code",
   "execution_count": 138,
   "metadata": {},
   "outputs": [
    {
     "data": {
      "text/plain": [
       "---- parameter ----\n",
       "nodes = [10]\n",
       "number of states    = [10]\n",
       "number of controls  = [10]\n",
       "number of sections  = 1\n",
       "number of variables = 201\n",
       "---- algorithm ----\n",
       "max iteration = 15\n",
       "---- function  ----\n",
       "dynamics        = [<function dynamics at 0x10febb400>]\n",
       "cost            = <function cost at 0x18298586a8>\n",
       "cost_derivative = None\n",
       "equality        = <function equality at 0x1829858378>\n",
       "inequality      = <function inequality at 0x1829858598>\n",
       "knot_states_smooth = [<function dynamics at 0x10febb400>]"
      ]
     },
     "execution_count": 138,
     "metadata": {},
     "output_type": "execute_result"
    }
   ],
   "source": [
    "prob"
   ]
  },
  {
   "cell_type": "code",
   "execution_count": 139,
   "metadata": {},
   "outputs": [
    {
     "data": {
      "image/png": "[encoded data removed]",
      "text/plain": [
       "<Figure size 432x288 with 1 Axes>"
      ]
     },
     "metadata": {},
     "output_type": "display_data"
    }
   ],
   "source": [
    "obj.plot_direct_traj()"
   ]
  },
  {
   "cell_type": "code",
   "execution_count": 140,
   "metadata": {
    "scrolled": false
   },
   "outputs": [
    {
     "name": "stdout",
     "output_type": "stream",
     "text": [
      "---- iteration : 1 ----\n",
      "Iteration limit exceeded    (Exit mode 9)\n",
      "            Current function value: 28.80951435331945\n",
      "            Iterations: 26\n",
      "            Function evaluations: 5309\n",
      "            Gradient evaluations: 26\n",
      "Iteration limit exceeded\n",
      "final time  : 1.000\n",
      "\n",
      "---- iteration : 2 ----\n",
      "Iteration limit exceeded    (Exit mode 9)\n",
      "            Current function value: 137.6814320705453\n",
      "            Iterations: 26\n",
      "            Function evaluations: 5334\n",
      "            Gradient evaluations: 26\n",
      "Iteration limit exceeded\n",
      "final time  : 1.000\n",
      "\n",
      "---- iteration : 3 ----\n",
      "Iteration limit exceeded    (Exit mode 9)\n",
      "            Current function value: 423.6491611582865\n",
      "            Iterations: 26\n",
      "            Function evaluations: 5353\n",
      "            Gradient evaluations: 26\n",
      "Iteration limit exceeded\n",
      "final time  : 1.000\n",
      "\n",
      "---- iteration : 4 ----\n",
      "Positive directional derivative for linesearch    (Exit mode 8)\n",
      "            Current function value: 385.7551145110489\n",
      "            Iterations: 19\n",
      "            Function evaluations: 3118\n",
      "            Gradient evaluations: 15\n",
      "Positive directional derivative for linesearch\n",
      "final time  : 1.000\n",
      "\n",
      "---- iteration : 5 ----\n",
      "Positive directional derivative for linesearch    (Exit mode 8)\n",
      "            Current function value: 385.0047250906495\n",
      "            Iterations: 8\n",
      "            Function evaluations: 830\n",
      "            Gradient evaluations: 4\n",
      "Positive directional derivative for linesearch\n",
      "final time  : 1.000\n",
      "\n",
      "---- iteration : 6 ----\n",
      "Positive directional derivative for linesearch    (Exit mode 8)\n",
      "            Current function value: 377.5384563462029\n",
      "            Iterations: 25\n",
      "            Function evaluations: 4364\n",
      "            Gradient evaluations: 21\n",
      "Positive directional derivative for linesearch\n",
      "final time  : 1.000\n",
      "\n",
      "---- iteration : 7 ----\n",
      "Positive directional derivative for linesearch    (Exit mode 8)\n",
      "            Current function value: 377.5384563462029\n",
      "            Iterations: 5\n",
      "            Function evaluations: 203\n",
      "            Gradient evaluations: 1\n",
      "Positive directional derivative for linesearch\n",
      "final time  : 1.000\n",
      "\n",
      "---- iteration : 8 ----\n",
      "Positive directional derivative for linesearch    (Exit mode 8)\n",
      "            Current function value: 377.5384563462029\n",
      "            Iterations: 5\n",
      "            Function evaluations: 203\n",
      "            Gradient evaluations: 1\n",
      "Positive directional derivative for linesearch\n",
      "final time  : 1.000\n",
      "\n",
      "---- iteration : 9 ----\n",
      "Positive directional derivative for linesearch    (Exit mode 8)\n",
      "            Current function value: 377.5384563462029\n",
      "            Iterations: 5\n",
      "            Function evaluations: 203\n",
      "            Gradient evaluations: 1\n",
      "Positive directional derivative for linesearch\n",
      "final time  : 1.000\n",
      "\n",
      "---- iteration : 10 ----\n",
      "Positive directional derivative for linesearch    (Exit mode 8)\n",
      "            Current function value: 374.5890058690267\n",
      "            Iterations: 13\n",
      "            Function evaluations: 1873\n",
      "            Gradient evaluations: 9\n",
      "Positive directional derivative for linesearch\n",
      "final time  : 1.000\n",
      "\n",
      "---- iteration : 11 ----\n",
      "Positive directional derivative for linesearch    (Exit mode 8)\n",
      "            Current function value: 374.0759849468343\n",
      "            Iterations: 6\n",
      "            Function evaluations: 412\n",
      "            Gradient evaluations: 2\n",
      "Positive directional derivative for linesearch\n",
      "final time  : 1.000\n",
      "\n",
      "---- iteration : 12 ----\n",
      "Positive directional derivative for linesearch    (Exit mode 8)\n",
      "            Current function value: 374.0759849468343\n",
      "            Iterations: 5\n",
      "            Function evaluations: 203\n",
      "            Gradient evaluations: 1\n",
      "Positive directional derivative for linesearch\n",
      "final time  : 1.000\n",
      "\n",
      "---- iteration : 13 ----\n",
      "Positive directional derivative for linesearch    (Exit mode 8)\n",
      "            Current function value: 373.4494684752386\n",
      "            Iterations: 8\n",
      "            Function evaluations: 838\n",
      "            Gradient evaluations: 4\n",
      "Positive directional derivative for linesearch\n",
      "final time  : 1.000\n",
      "\n",
      "---- iteration : 14 ----\n",
      "Positive directional derivative for linesearch    (Exit mode 8)\n",
      "            Current function value: 371.529879832947\n",
      "            Iterations: 7\n",
      "            Function evaluations: 622\n",
      "            Gradient evaluations: 3\n",
      "Positive directional derivative for linesearch\n",
      "final time  : 1.000\n",
      "\n",
      "---- iteration : 15 ----\n",
      "Positive directional derivative for linesearch    (Exit mode 8)\n",
      "            Current function value: 371.01396205579\n",
      "            Iterations: 6\n",
      "            Function evaluations: 414\n",
      "            Gradient evaluations: 2\n",
      "Positive directional derivative for linesearch\n",
      "final time  : 1.000\n",
      "\n",
      "time taken:  39.39625430107117\n"
     ]
    }
   ],
   "source": [
    "def display_func(): \n",
    "    tf = prob.time_final(-1)\n",
    "    print(\"final time  : {0:.3f}\".format(tf))\n",
    "\n",
    "    \n",
    "import time\n",
    "start = time.time()    \n",
    "#solve the problem\n",
    "prob.solve(obj, display_func, ftol=1e-5)\n",
    "end = time.time()\n",
    "print('time taken: ',end - start)\n"
   ]
  },
  {
   "cell_type": "code",
   "execution_count": null,
   "metadata": {},
   "outputs": [],
   "source": []
  },
  {
   "cell_type": "code",
   "execution_count": 141,
   "metadata": {},
   "outputs": [
    {
     "name": "stdout",
     "output_type": "stream",
     "text": [
      "From (0.86,0.67) to (0.28,0.44)\n",
      "From (0.33,0.41) to (0.22,0.04)\n",
      "From (0.90,0.24) to (0.75,0.23)\n",
      "From (0.51,0.30) to (0.44,0.37)\n",
      "From (0.17,0.75) to (0.92,0.60)\n"
     ]
    }
   ],
   "source": [
    "obj.print_particles()"
   ]
  },
  {
   "cell_type": "code",
   "execution_count": 142,
   "metadata": {},
   "outputs": [
    {
     "data": {
      "text/plain": [
       "array([0.85512576, 0.82629035, 0.77187504, 0.70409272, 0.6050073 ,\n",
       "       0.53518877, 0.44225788, 0.35363646, 0.31025438, 0.28428066])"
      ]
     },
     "execution_count": 142,
     "metadata": {},
     "output_type": "execute_result"
    }
   ],
   "source": [
    "prob.states_all_section(0)"
   ]
  },
  {
   "cell_type": "code",
   "execution_count": 148,
   "metadata": {},
   "outputs": [
    {
     "data": {
      "image/png": "[encoded data removed]",
      "text/plain": [
       "<Figure size 432x288 with 1 Axes>"
      ]
     },
     "metadata": {},
     "output_type": "display_data"
    }
   ],
   "source": [
    "N_p = obj.N\n",
    "\n",
    "obj.plot_direct_traj()\n",
    "for i in range(N_p):\n",
    "    plt.plot(prob.states_all_section(2*i),prob.states_all_section(2*i+1),'-x')"
   ]
  },
  {
   "cell_type": "code",
   "execution_count": 149,
   "metadata": {},
   "outputs": [],
   "source": [
    "new_time = prob.time_update()"
   ]
  },
  {
   "cell_type": "code",
   "execution_count": 150,
   "metadata": {},
   "outputs": [],
   "source": [
    "fine_time = np.linspace(0,new_time[-1])\n",
    "\n",
    "xf=[sp.interpolate.interp1d(new_time,prob.states_all_section(2*i),kind='cubic') for i in range(N_p)]\n",
    "yf=[sp.interpolate.interp1d(new_time,prob.states_all_section(2*i+1),kind='cubic') for i in range(N_p)]\n",
    "\n",
    "xfine=[xf_i(fine_time) for xf_i in xf]\n",
    "yfine=[yf_i(fine_time) for yf_i in yf]"
   ]
  },
  {
   "cell_type": "code",
   "execution_count": 146,
   "metadata": {},
   "outputs": [
    {
     "data": {
      "image/png": "[encoded data removed]",
      "text/plain": [
       "<Figure size 432x288 with 1 Axes>"
      ]
     },
     "metadata": {},
     "output_type": "display_data"
    }
   ],
   "source": [
    "obj.plot_direct_traj()\n",
    "for i in range(N_p):\n",
    "    plt.plot(xfine[i],yfine[i],lw=0.5)"
   ]
  },
  {
   "cell_type": "code",
   "execution_count": 147,
   "metadata": {},
   "outputs": [
    {
     "data": {
      "image/png": "[encoded data removed]",
      "text/plain": [
       "<Figure size 432x288 with 1 Axes>"
      ]
     },
     "metadata": {},
     "output_type": "display_data"
    }
   ],
   "source": [
    "import matplotlib.animation as animation\n",
    "fig = plt.figure()\n",
    "ax = fig.add_subplot(111, autoscale_on=False, xlim=(-0.5, 1.5), ylim=(-0.5, 1.5))\n",
    "ax.set_aspect('equal')\n",
    "ax.grid()\n",
    "\n",
    "#plot base image\n",
    "obj.plot_direct_traj()\n",
    "for i in range(N_p):\n",
    "    plt.plot(xfine[i],yfine[i],lw=0.5)\n",
    "\n",
    "    \n",
    "#create animation object\n",
    "line, = ax.plot([], [], 'o',c='k', lw=2)\n",
    "time_template = 'time = %.2fs'\n",
    "time_text = ax.text(0.05, 0.9, '', transform=ax.transAxes)\n",
    "\n",
    "def init():\n",
    "    line.set_data([], [])\n",
    "    time_text.set_text('')\n",
    "    return line, time_text\n",
    "\n",
    "\n",
    "def animate(t):\n",
    "    \n",
    "    xs = [xfine[i][t] for i in range(N_p)]\n",
    "    ys = [yfine[i][t] for i in range(N_p)]\n",
    "\n",
    "    line.set_data(xs, ys)\n",
    "    \n",
    "    time_text.set_text(time_template % (fine_time[t]))\n",
    "    return line, time_text\n",
    "\n",
    "\n",
    "ani = animation.FuncAnimation(fig, animate, frames=np.arange(0, len(fine_time)),\n",
    "                              interval=50, blit=False, init_func=init,repeat_delay=1000)\n",
    "\n",
    "ani.save('line.gif', dpi=150, writer='imagemagick')\n",
    "#plt.show()"
   ]
  },
  {
   "cell_type": "code",
   "execution_count": null,
   "metadata": {},
   "outputs": [],
   "source": []
  },
  {
   "cell_type": "code",
   "execution_count": null,
   "metadata": {},
   "outputs": [],
   "source": []
  }
 ],
 "metadata": {
  "kernelspec": {
   "display_name": "Python 3",
   "language": "python",
   "name": "python3"
  },
  "language_info": {
   "codemirror_mode": {
    "name": "ipython",
    "version": 3
   },
   "file_extension": ".py",
   "mimetype": "text/x-python",
   "name": "python",
   "nbconvert_exporter": "python",
   "pygments_lexer": "ipython3",
   "version": "3.6.7"
  }
 },
 "nbformat": 4,
 "nbformat_minor": 2
}
